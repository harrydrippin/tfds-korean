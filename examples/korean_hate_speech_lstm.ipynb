{
  "nbformat": 4,
  "nbformat_minor": 0,
  "metadata": {
    "colab": {
      "name": "korean-hate-speech-lstm.ipynb",
      "provenance": [],
      "collapsed_sections": [],
      "authorship_tag": "ABX9TyOJLAGdLMjFaKkPHTIEgdHA",
      "include_colab_link": true
    },
    "kernelspec": {
      "name": "python3",
      "display_name": "Python 3"
    },
    "language_info": {
      "name": "python"
    },
    "accelerator": "GPU"
  },
  "cells": [
    {
      "cell_type": "markdown",
      "metadata": {
        "id": "view-in-github",
        "colab_type": "text"
      },
      "source": [
        "<a href=\"https://colab.research.google.com/github/jeongukjae/tfds-korean/blob/develop/examples/korean_hate_speech_lstm.ipynb\" target=\"_parent\"><img src=\"https://colab.research.google.com/assets/colab-badge.svg\" alt=\"Open In Colab\"/></a>"
      ]
    },
    {
      "cell_type": "code",
      "metadata": {
        "id": "TPyeT6PGKgXB"
      },
      "source": [
        "!pip install -q -U tfds-korean tensorflow-datasets tensorflow-text tensorflow-addons sentencepiece"
      ],
      "execution_count": 1,
      "outputs": []
    },
    {
      "cell_type": "code",
      "metadata": {
        "id": "QV5rw0C4KhI8"
      },
      "source": [
        "import tensorflow as tf\n",
        "import tensorflow_addons as tfa\n",
        "import tensorflow_datasets as tfds\n",
        "import tensorflow_text as text\n",
        "import tfds_korean.korean_hate_speech"
      ],
      "execution_count": 2,
      "outputs": []
    },
    {
      "cell_type": "code",
      "metadata": {
        "colab": {
          "base_uri": "https://localhost:8080/"
        },
        "id": "TI7vOopVNIiX",
        "outputId": "d201118d-8d66-4de1-ae24-55f422f0462f"
      },
      "source": [
        "dataset, ds_info = tfds.load(\"korean_hate_speech\", with_info=True)\n",
        "\n",
        "print(ds_info)"
      ],
      "execution_count": 3,
      "outputs": [
        {
          "output_type": "stream",
          "text": [
            "tfds.core.DatasetInfo(\n",
            "    name='korean_hate_speech',\n",
            "    full_name='korean_hate_speech/labeled/1.0.0',\n",
            "    description=\"\"\"\n",
            "    The human-annotated Korean corpus for toxic speech detection and the large unlabeled corpus.\n",
            "    The data is comments from the Korean entertainment news aggregation platform.\n",
            "    \"\"\",\n",
            "    config_description=\"\"\"\n",
            "    Korean hate speech dataset (labeled)\n",
            "    \"\"\",\n",
            "    homepage='https://github.com/kocohub/korean-hate-speech',\n",
            "    data_path='/root/tensorflow_datasets/korean_hate_speech/labeled/1.0.0',\n",
            "    download_size=1.85 MiB,\n",
            "    dataset_size=2.58 MiB,\n",
            "    features=FeaturesDict({\n",
            "        'bias': ClassLabel(shape=(), dtype=tf.int64, num_classes=3),\n",
            "        'comments': Text(shape=(), dtype=tf.string),\n",
            "        'contain_gender_bias': ClassLabel(shape=(), dtype=tf.int64, num_classes=2),\n",
            "        'hate': ClassLabel(shape=(), dtype=tf.int64, num_classes=3),\n",
            "        'news_title': Text(shape=(), dtype=tf.string),\n",
            "    }),\n",
            "    supervised_keys=None,\n",
            "    splits={\n",
            "        'dev': <SplitInfo num_examples=471, num_shards=1>,\n",
            "        'test': <SplitInfo num_examples=974, num_shards=1>,\n",
            "        'train': <SplitInfo num_examples=7896, num_shards=1>,\n",
            "    },\n",
            "    citation=\"\"\"@inproceedings{moon-etal-2020-beep,\n",
            "        title = \"{BEEP}! {K}orean Corpus of Online News Comments for Toxic Speech Detection\",\n",
            "        author = \"Moon, Jihyung  and\n",
            "          Cho, Won Ik  and\n",
            "          Lee, Junbum\",\n",
            "        booktitle = \"Proceedings of the Eighth International Workshop on Natural Language Processing for Social Media\",\n",
            "        month = jul,\n",
            "        year = \"2020\",\n",
            "        address = \"Online\",\n",
            "        publisher = \"Association for Computational Linguistics\",\n",
            "        url = \"https://www.aclweb.org/anthology/2020.socialnlp-1.4\",\n",
            "        pages = \"25--31\",\n",
            "        abstract = \"Toxic comments in online platforms are an unavoidable social issue under the cloak of anonymity. Hate speech detection has been actively done for languages such as English, German, or Italian, where manually labeled corpus has been released. In this work, we first present 9.4K manually labeled entertainment news comments for identifying Korean toxic speech, collected from a widely used online news platform in Korea. The comments are annotated regarding social bias and hate speech since both aspects are correlated. The inter-annotator agreement Krippendorff{'}s alpha score is 0.492 and 0.496, respectively. We provide benchmarks using CharCNN, BiLSTM, and BERT, where BERT achieves the highest score on all tasks. The models generally display better performance on bias identification, since the hate speech detection is a more subjective issue. Additionally, when BERT is trained with bias label for hate speech detection, the prediction score increases, implying that bias and hate are intertwined. We make our dataset publicly available and open competitions with the corpus and benchmarks.\",\n",
            "    }\"\"\",\n",
            ")\n"
          ],
          "name": "stdout"
        }
      ]
    },
    {
      "cell_type": "code",
      "metadata": {
        "id": "EUzym7R0Ngcx"
      },
      "source": [
        "import sentencepiece as spm\n",
        "\n",
        "train_sentences = dataset['train'].flat_map(lambda x: tf.data.Dataset.from_tensor_slices([x['news_title'], x['comments']]))\n",
        "spm.SentencePieceTrainer.train(sentence_iterator=train_sentences.as_numpy_iterator(), model_prefix='spm', vocab_size=5000)"
      ],
      "execution_count": 4,
      "outputs": []
    },
    {
      "cell_type": "code",
      "metadata": {
        "colab": {
          "base_uri": "https://localhost:8080/"
        },
        "id": "SbV_tTqcOoAL",
        "outputId": "5eddb33c-7336-4be1-809a-e45afd73f797"
      },
      "source": [
        "!head spm.vocab"
      ],
      "execution_count": 5,
      "outputs": [
        {
          "output_type": "stream",
          "text": [
            "<unk>\t0\n",
            "<s>\t0\n",
            "</s>\t0\n",
            "▁\t-2.61888\n",
            ",\t-3.96764\n",
            "'\t-4.12343\n",
            "]\t-4.31812\n",
            "이\t-4.42457\n",
            "▁[\t-4.45926\n",
            "▁'\t-4.52212\n"
          ],
          "name": "stdout"
        }
      ]
    },
    {
      "cell_type": "code",
      "metadata": {
        "id": "P_iA3K94PIYc"
      },
      "source": [
        "tokenizer = text.SentencepieceTokenizer(open('spm.model', 'rb').read(), add_bos=True, add_eos=True)\n",
        "\n",
        "def _map_model_input(ds_item):\n",
        "    title_token_id = tokenizer.tokenize(ds_item['news_title'])\n",
        "    comment_token_id = tokenizer.tokenize(ds_item['comments'])\n",
        "\n",
        "    return (\n",
        "        {\"news\": title_token_id, \"comment\": comment_token_id},\n",
        "        {\n",
        "            \"hate\": tf.one_hot(ds_item['hate'], 3),\n",
        "            \"gender_bias\": tf.one_hot(ds_item['contain_gender_bias'], 2),\n",
        "            \"bias\": tf.one_hot(ds_item['bias'], 3),\n",
        "        },\n",
        "    )\n",
        "\n",
        "train_ds = dataset['train'].shuffle(10000, reshuffle_each_iteration=True).batch(64).map(_map_model_input)\n",
        "dev_ds = dataset['dev'].shuffle(500, reshuffle_each_iteration=True).batch(64).map(_map_model_input)"
      ],
      "execution_count": 6,
      "outputs": []
    },
    {
      "cell_type": "code",
      "metadata": {
        "id": "JOTmRmBlQchj"
      },
      "source": [
        "def create_model():\n",
        "    input_node = {\n",
        "        \"news\": tf.keras.Input([None], name='news', ragged=True),\n",
        "        \"comment\": tf.keras.Input([None], name='comment', ragged=True),\n",
        "    }\n",
        "\n",
        "    embedding_table = tf.keras.layers.Embedding(tokenizer.vocab_size(), 256, name='embedding_table')\n",
        "    news_encoder = tf.keras.layers.Bidirectional(tf.keras.layers.LSTM(256, return_sequences=True), name='news_encoder')\n",
        "    comment_encoder = tf.keras.Sequential(\n",
        "        [\n",
        "            tf.keras.layers.Bidirectional(tf.keras.layers.LSTM(256, return_sequences=True)),\n",
        "            tf.keras.layers.Bidirectional(tf.keras.layers.LSTM(256, return_sequences=True)),\n",
        "        ],\n",
        "        name='comment_encoder'\n",
        "    )\n",
        "    hate_classifier = tf.keras.Sequential(\n",
        "        [\n",
        "            tf.keras.layers.Dense(256, activation='relu'),\n",
        "            tf.keras.layers.Dense(3)\n",
        "        ],\n",
        "        name='hate_classifier'\n",
        "    )\n",
        "    gender_bias_classifier = tf.keras.Sequential(\n",
        "        [\n",
        "            tf.keras.layers.Dense(256, activation='relu'),\n",
        "            tf.keras.layers.Dense(2)\n",
        "        ],\n",
        "        name='gender_bias_classifier'\n",
        "    )\n",
        "    bias_classifier = tf.keras.Sequential(\n",
        "        [\n",
        "            tf.keras.layers.Dense(256, activation='relu'),\n",
        "            tf.keras.layers.Dense(3)\n",
        "        ],\n",
        "        name='bias_classifier'\n",
        "    )\n",
        "\n",
        "    news_embedding = news_encoder(embedding_table(input_node['news'])).to_tensor()\n",
        "    comment_embedding = comment_encoder(embedding_table(input_node['comment'])).to_tensor()\n",
        "    comment_attended = tf.keras.layers.Attention()([comment_embedding, news_embedding])\n",
        "\n",
        "    representation = tf.concat(\n",
        "        [\n",
        "            tf.keras.layers.GlobalAveragePooling1D()(comment_attended),\n",
        "            tf.keras.layers.GlobalAveragePooling1D()(comment_embedding),\n",
        "        ],\n",
        "        axis=-1\n",
        "    )\n",
        "\n",
        "    output_node = {\n",
        "        \"hate\": hate_classifier(representation),\n",
        "        \"gender_bias\": gender_bias_classifier(representation),\n",
        "        \"bias\": bias_classifier(representation),\n",
        "    }\n",
        "\n",
        "    model = tf.keras.Model(input_node, output_node)\n",
        "    return model"
      ],
      "execution_count": 7,
      "outputs": []
    },
    {
      "cell_type": "code",
      "metadata": {
        "colab": {
          "base_uri": "https://localhost:8080/"
        },
        "id": "UbuPV7MFTX63",
        "outputId": "394c491f-7c70-47eb-8dd0-e764bab6bfef"
      },
      "source": [
        "model = create_model()\n",
        "model.summary()\n",
        "\n",
        "model.compile(\n",
        "    optimizer=tf.keras.optimizers.Adam(),\n",
        "    loss=tf.keras.losses.CategoricalCrossentropy(from_logits=True),\n",
        "    metrics={\n",
        "        \"hate\": tfa.metrics.F1Score(average='macro', num_classes=3),\n",
        "        \"gender_bias\": tfa.metrics.F1Score(average='macro', num_classes=2),\n",
        "        \"bias\": tfa.metrics.F1Score(average='macro', num_classes=3),\n",
        "    }\n",
        ")"
      ],
      "execution_count": 8,
      "outputs": [
        {
          "output_type": "stream",
          "text": [
            "Model: \"model\"\n",
            "__________________________________________________________________________________________________\n",
            "Layer (type)                    Output Shape         Param #     Connected to                     \n",
            "==================================================================================================\n",
            "comment (InputLayer)            [(None, None)]       0                                            \n",
            "__________________________________________________________________________________________________\n",
            "news (InputLayer)               [(None, None)]       0                                            \n",
            "__________________________________________________________________________________________________\n",
            "embedding_table (Embedding)     (None, None, 256)    1280000     news[0][0]                       \n",
            "                                                                 comment[0][0]                    \n",
            "__________________________________________________________________________________________________\n",
            "comment_encoder (Sequential)    (None, None, 512)    2625536     embedding_table[1][0]            \n",
            "__________________________________________________________________________________________________\n",
            "news_encoder (Bidirectional)    (None, None, 512)    1050624     embedding_table[0][0]            \n",
            "__________________________________________________________________________________________________\n",
            "input.to_tensor_1 (InstanceMeth (None, None, 512)    0           comment_encoder[0][0]            \n",
            "__________________________________________________________________________________________________\n",
            "input.to_tensor (InstanceMethod (None, None, 512)    0           news_encoder[0][0]               \n",
            "__________________________________________________________________________________________________\n",
            "attention (Attention)           (None, None, 512)    0           input.to_tensor_1[0][0]          \n",
            "                                                                 input.to_tensor[0][0]            \n",
            "__________________________________________________________________________________________________\n",
            "global_average_pooling1d (Globa (None, 512)          0           attention[0][0]                  \n",
            "__________________________________________________________________________________________________\n",
            "global_average_pooling1d_1 (Glo (None, 512)          0           input.to_tensor_1[0][0]          \n",
            "__________________________________________________________________________________________________\n",
            "tf.concat (TFOpLambda)          (None, 1024)         0           global_average_pooling1d[0][0]   \n",
            "                                                                 global_average_pooling1d_1[0][0] \n",
            "__________________________________________________________________________________________________\n",
            "bias_classifier (Sequential)    (None, 3)            263171      tf.concat[0][0]                  \n",
            "__________________________________________________________________________________________________\n",
            "gender_bias_classifier (Sequent (None, 2)            262914      tf.concat[0][0]                  \n",
            "__________________________________________________________________________________________________\n",
            "hate_classifier (Sequential)    (None, 3)            263171      tf.concat[0][0]                  \n",
            "==================================================================================================\n",
            "Total params: 5,745,416\n",
            "Trainable params: 5,745,416\n",
            "Non-trainable params: 0\n",
            "__________________________________________________________________________________________________\n"
          ],
          "name": "stdout"
        }
      ]
    },
    {
      "cell_type": "code",
      "metadata": {
        "colab": {
          "base_uri": "https://localhost:8080/"
        },
        "id": "yicBimR9TnPE",
        "outputId": "8fe1bfe4-2cda-4510-fbd9-2b04c20372c9"
      },
      "source": [
        "model.fit(\n",
        "    train_ds,\n",
        "    validation_data=dev_ds,\n",
        "    epochs=3,\n",
        ")"
      ],
      "execution_count": 9,
      "outputs": [
        {
          "output_type": "stream",
          "text": [
            "Epoch 1/3\n"
          ],
          "name": "stdout"
        },
        {
          "output_type": "stream",
          "text": [
            "/usr/local/lib/python3.7/dist-packages/tensorflow/python/framework/indexed_slices.py:437: UserWarning: Converting sparse IndexedSlices(IndexedSlices(indices=Tensor(\"Adam/gradients/concat_3:0\", shape=(None,), dtype=int32), values=Tensor(\"Adam/gradients/concat_2:0\", shape=(None, 256), dtype=float32), dense_shape=Tensor(\"gradient_tape/model/news_encoder/forward_lstm/RaggedToTensor/Shape:0\", shape=(2,), dtype=int32))) to a dense Tensor of unknown shape. This may consume a large amount of memory.\n",
            "  \"shape. This may consume a large amount of memory.\" % value)\n",
            "/usr/local/lib/python3.7/dist-packages/tensorflow/python/framework/indexed_slices.py:437: UserWarning: Converting sparse IndexedSlices(IndexedSlices(indices=Tensor(\"Adam/gradients/concat_5:0\", shape=(None,), dtype=int32), values=Tensor(\"Adam/gradients/concat_4:0\", shape=(None, 256), dtype=float32), dense_shape=Tensor(\"gradient_tape/model/comment_encoder/bidirectional/forward_lstm_1/RaggedToTensor/Shape:0\", shape=(2,), dtype=int32))) to a dense Tensor of unknown shape. This may consume a large amount of memory.\n",
            "  \"shape. This may consume a large amount of memory.\" % value)\n"
          ],
          "name": "stderr"
        },
        {
          "output_type": "stream",
          "text": [
            "124/124 [==============================] - 80s 566ms/step - loss: 2.4612 - bias_classifier_loss: 0.9264 - gender_bias_classifier_loss: 0.4740 - hate_classifier_loss: 1.0608 - bias_classifier_f1_score: 0.2879 - gender_bias_classifier_f1_score: 0.4738 - hate_classifier_f1_score: 0.2858 - val_loss: 1.9479 - val_bias_classifier_loss: 0.6639 - val_gender_bias_classifier_loss: 0.3141 - val_hate_classifier_loss: 0.9699 - val_bias_classifier_f1_score: 0.4470 - val_gender_bias_classifier_f1_score: 0.6838 - val_hate_classifier_f1_score: 0.4540\n",
            "Epoch 2/3\n",
            "124/124 [==============================] - 68s 550ms/step - loss: 1.8093 - bias_classifier_loss: 0.6565 - gender_bias_classifier_loss: 0.2695 - hate_classifier_loss: 0.8832 - bias_classifier_f1_score: 0.5271 - gender_bias_classifier_f1_score: 0.7431 - hate_classifier_f1_score: 0.5243 - val_loss: 1.8413 - val_bias_classifier_loss: 0.6488 - val_gender_bias_classifier_loss: 0.2685 - val_hate_classifier_loss: 0.9240 - val_bias_classifier_f1_score: 0.5805 - val_gender_bias_classifier_f1_score: 0.8186 - val_hate_classifier_f1_score: 0.5498\n",
            "Epoch 3/3\n",
            "124/124 [==============================] - 67s 545ms/step - loss: 1.4888 - bias_classifier_loss: 0.5258 - gender_bias_classifier_loss: 0.1770 - hate_classifier_loss: 0.7859 - bias_classifier_f1_score: 0.6749 - gender_bias_classifier_f1_score: 0.8655 - hate_classifier_f1_score: 0.5994 - val_loss: 1.8537 - val_bias_classifier_loss: 0.6119 - val_gender_bias_classifier_loss: 0.2656 - val_hate_classifier_loss: 0.9763 - val_bias_classifier_f1_score: 0.5756 - val_gender_bias_classifier_f1_score: 0.7938 - val_hate_classifier_f1_score: 0.5342\n"
          ],
          "name": "stdout"
        },
        {
          "output_type": "execute_result",
          "data": {
            "text/plain": [
              "<tensorflow.python.keras.callbacks.History at 0x7fc24741a050>"
            ]
          },
          "metadata": {
            "tags": []
          },
          "execution_count": 9
        }
      ]
    },
    {
      "cell_type": "code",
      "metadata": {
        "colab": {
          "base_uri": "https://localhost:8080/"
        },
        "id": "Y1pGTqCxYKIJ",
        "outputId": "435775a6-8d98-4598-b645-17e54f5a4b3e"
      },
      "source": [
        "# example data from https://www.kaggle.com/c/korean-hate-speech-detection/data?select=unlabeled_comments.txt\n",
        "\n",
        "# bias: 0=\"none\", 1=\"gender\", 2=\"others\"\n",
        "# gender_bias: 0=\"False\", 1=\"True\"\n",
        "# hate: 0=\"none\", 1=\"hate\", 2=\"offensive\"\n",
        "result = model({\n",
        "    \"news\": tokenizer.tokenize(\n",
        "        [\n",
        "            \"[단독] 지드래곤♥이주연, 제주도 데이트…2018년 1호 커플 탄생\",\n",
        "            \"[단독] 지드래곤♥이주연, 제주도 데이트…2018년 1호 커플 탄생\",\n",
        "            \"[단독] 지드래곤♥이주연, 제주도 데이트…2018년 1호 커플 탄생\",\n",
        "            \"[단독] 지드래곤♥이주연, 제주도 데이트…2018년 1호 커플 탄생\",\n",
        "            \"[단독] 지드래곤♥이주연, 제주도 데이트…2018년 1호 커플 탄생\",\n",
        "        ]\n",
        "    ),\n",
        "    \"comment\": tokenizer.tokenize(\n",
        "        [\n",
        "            \"지드래곤은 난봉꾼이란...댓글도 달렸네 ㅋㅋ 이주연 학창시절 사진 보고 와라. 요즘 웬만한 여자 연예인하고 붙여놔도....미모가 최고였단다.ㅋ 5대 얼짱 출신.\",\n",
        "            \"이주연은 알겠는데 지디는 뭐하는 듣보잡여\",\n",
        "            \"부럽네요. 나도 불과 한달전까진 허니문베이비를 꿈꿨는데 이제 다 부질없네요. 당연히 순결할거라 믿었고 그래서 첫날밤까지 기다려준건데 배신감만 듭니다. 첫날밤 와이프가 피를 안흘렸어요. 처가집식구들이 일부러 절 속였단 생각에 화도나고 어제 처가집가기로 했는데 안간다고 했더니 혼자 울고 갔다와서 지금까지 한마디도 안해요. 이혼하고 싶네요\",\n",
        "            \"이주연을 모르는 애들이 많네. 해체된 애프터스쿨 멤버로 당시는 주연이 예명. 인기나 포텐은 안터졌으나, 순수미모만으로는 애프터스쿨에서 원탑이었다. 진짜 자연미인이다.\",\n",
        "            \"겨론했으면\",\n",
        "        ]\n",
        "    ),\n",
        "})\n",
        "result = {key: tf.argmax(value, axis=-1) for key, value in result.items()}\n",
        "print(\"bias:\", result['bias'])\n",
        "print(\"gender_bias:\", result['gender_bias'])\n",
        "print(\"hate:\", result['hate'])"
      ],
      "execution_count": 10,
      "outputs": [
        {
          "output_type": "stream",
          "text": [
            "bias: tf.Tensor([0 0 0 0 0], shape=(5,), dtype=int64)\n",
            "gender_bias: tf.Tensor([0 0 0 0 0], shape=(5,), dtype=int64)\n",
            "hate: tf.Tensor([2 0 0 0 0], shape=(5,), dtype=int64)\n"
          ],
          "name": "stdout"
        }
      ]
    }
  ]
}